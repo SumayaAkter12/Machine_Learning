{
 "cells": [
  {
   "cell_type": "markdown",
   "id": "7acd2b97",
   "metadata": {},
   "source": [
    "Linear Regression with L1 and L2 Regularization"
   ]
  },
  {
   "cell_type": "code",
   "execution_count": 1,
   "id": "78c9768a",
   "metadata": {},
   "outputs": [
    {
     "name": "stdout",
     "output_type": "stream",
     "text": [
      "Collecting mglearn\n",
      "  Using cached mglearn-0.2.0-py2.py3-none-any.whl.metadata (628 bytes)\n",
      "Requirement already satisfied: numpy in c:\\users\\sumai\\appdata\\local\\programs\\python\\python313\\lib\\site-packages (from mglearn) (2.3.1)\n",
      "Requirement already satisfied: matplotlib in c:\\users\\sumai\\appdata\\local\\programs\\python\\python313\\lib\\site-packages (from mglearn) (3.10.3)\n",
      "Collecting scikit-learn (from mglearn)\n",
      "  Using cached scikit_learn-1.7.0-cp313-cp313-win_amd64.whl.metadata (14 kB)\n",
      "Requirement already satisfied: pandas in c:\\users\\sumai\\appdata\\local\\programs\\python\\python313\\lib\\site-packages (from mglearn) (2.3.0)\n",
      "Requirement already satisfied: pillow in c:\\users\\sumai\\appdata\\local\\programs\\python\\python313\\lib\\site-packages (from mglearn) (11.3.0)\n",
      "Requirement already satisfied: cycler in c:\\users\\sumai\\appdata\\local\\programs\\python\\python313\\lib\\site-packages (from mglearn) (0.12.1)\n",
      "Collecting imageio (from mglearn)\n",
      "  Using cached imageio-2.37.0-py3-none-any.whl.metadata (5.2 kB)\n",
      "Collecting joblib (from mglearn)\n",
      "  Using cached joblib-1.5.1-py3-none-any.whl.metadata (5.6 kB)\n",
      "Requirement already satisfied: contourpy>=1.0.1 in c:\\users\\sumai\\appdata\\local\\programs\\python\\python313\\lib\\site-packages (from matplotlib->mglearn) (1.3.2)\n",
      "Requirement already satisfied: fonttools>=4.22.0 in c:\\users\\sumai\\appdata\\local\\programs\\python\\python313\\lib\\site-packages (from matplotlib->mglearn) (4.58.4)\n",
      "Requirement already satisfied: kiwisolver>=1.3.1 in c:\\users\\sumai\\appdata\\local\\programs\\python\\python313\\lib\\site-packages (from matplotlib->mglearn) (1.4.8)\n",
      "Requirement already satisfied: packaging>=20.0 in c:\\users\\sumai\\appdata\\local\\programs\\python\\python313\\lib\\site-packages (from matplotlib->mglearn) (25.0)\n",
      "Requirement already satisfied: pyparsing>=2.3.1 in c:\\users\\sumai\\appdata\\local\\programs\\python\\python313\\lib\\site-packages (from matplotlib->mglearn) (3.2.3)\n",
      "Requirement already satisfied: python-dateutil>=2.7 in c:\\users\\sumai\\appdata\\local\\programs\\python\\python313\\lib\\site-packages (from matplotlib->mglearn) (2.9.0.post0)\n",
      "Requirement already satisfied: six>=1.5 in c:\\users\\sumai\\appdata\\local\\programs\\python\\python313\\lib\\site-packages (from python-dateutil>=2.7->matplotlib->mglearn) (1.17.0)\n",
      "Requirement already satisfied: pytz>=2020.1 in c:\\users\\sumai\\appdata\\local\\programs\\python\\python313\\lib\\site-packages (from pandas->mglearn) (2025.2)\n",
      "Requirement already satisfied: tzdata>=2022.7 in c:\\users\\sumai\\appdata\\local\\programs\\python\\python313\\lib\\site-packages (from pandas->mglearn) (2025.2)\n",
      "Collecting scipy>=1.8.0 (from scikit-learn->mglearn)\n",
      "  Using cached scipy-1.16.0-cp313-cp313-win_amd64.whl.metadata (60 kB)\n",
      "Collecting threadpoolctl>=3.1.0 (from scikit-learn->mglearn)\n",
      "  Using cached threadpoolctl-3.6.0-py3-none-any.whl.metadata (13 kB)\n",
      "Using cached mglearn-0.2.0-py2.py3-none-any.whl (581 kB)\n",
      "Using cached imageio-2.37.0-py3-none-any.whl (315 kB)\n",
      "Using cached joblib-1.5.1-py3-none-any.whl (307 kB)\n",
      "Using cached scikit_learn-1.7.0-cp313-cp313-win_amd64.whl (10.7 MB)\n",
      "Downloading scipy-1.16.0-cp313-cp313-win_amd64.whl (38.4 MB)\n",
      "   ---------------------------------------- 0.0/38.4 MB ? eta -:--:--\n",
      "   ---------------------------------------- 0.3/38.4 MB ? eta -:--:--\n",
      "   -- ------------------------------------- 2.6/38.4 MB 10.1 MB/s eta 0:00:04\n",
      "   ----- ---------------------------------- 5.0/38.4 MB 10.6 MB/s eta 0:00:04\n",
      "   ------- -------------------------------- 6.8/38.4 MB 10.1 MB/s eta 0:00:04\n",
      "   --------- ------------------------------ 9.2/38.4 MB 10.5 MB/s eta 0:00:03\n",
      "   ------------ --------------------------- 11.5/38.4 MB 10.7 MB/s eta 0:00:03\n",
      "   -------------- ------------------------- 14.2/38.4 MB 10.9 MB/s eta 0:00:03\n",
      "   ----------------- ---------------------- 16.5/38.4 MB 11.0 MB/s eta 0:00:02\n",
      "   ------------------- -------------------- 18.9/38.4 MB 11.1 MB/s eta 0:00:02\n",
      "   ---------------------- ----------------- 21.2/38.4 MB 11.2 MB/s eta 0:00:02\n",
      "   ------------------------ --------------- 23.6/38.4 MB 11.2 MB/s eta 0:00:02\n",
      "   --------------------------- ------------ 26.0/38.4 MB 11.3 MB/s eta 0:00:02\n",
      "   ----------------------------- ---------- 28.6/38.4 MB 11.3 MB/s eta 0:00:01\n",
      "   -------------------------------- ------- 31.2/38.4 MB 11.3 MB/s eta 0:00:01\n",
      "   ---------------------------------- ----- 33.6/38.4 MB 11.4 MB/s eta 0:00:01\n",
      "   ------------------------------------- -- 35.9/38.4 MB 11.4 MB/s eta 0:00:01\n",
      "   ---------------------------------------  38.3/38.4 MB 11.4 MB/s eta 0:00:01\n",
      "   ---------------------------------------- 38.4/38.4 MB 11.1 MB/s eta 0:00:00\n",
      "Downloading threadpoolctl-3.6.0-py3-none-any.whl (18 kB)\n",
      "Installing collected packages: threadpoolctl, scipy, joblib, imageio, scikit-learn, mglearn\n",
      "\n",
      "   ------ --------------------------------- 1/6 [scipy]\n",
      "   ------ --------------------------------- 1/6 [scipy]\n",
      "   ------ --------------------------------- 1/6 [scipy]\n",
      "   ------ --------------------------------- 1/6 [scipy]\n",
      "   ------ --------------------------------- 1/6 [scipy]\n",
      "   ------ --------------------------------- 1/6 [scipy]\n",
      "   ------ --------------------------------- 1/6 [scipy]\n",
      "   ------ --------------------------------- 1/6 [scipy]\n",
      "   ------ --------------------------------- 1/6 [scipy]\n",
      "   ------ --------------------------------- 1/6 [scipy]\n",
      "   ------ --------------------------------- 1/6 [scipy]\n",
      "   ------ --------------------------------- 1/6 [scipy]\n",
      "   ------ --------------------------------- 1/6 [scipy]\n",
      "   ------ --------------------------------- 1/6 [scipy]\n",
      "   ------ --------------------------------- 1/6 [scipy]\n",
      "   ------ --------------------------------- 1/6 [scipy]\n",
      "   ------ --------------------------------- 1/6 [scipy]\n",
      "   ------ --------------------------------- 1/6 [scipy]\n",
      "   ------ --------------------------------- 1/6 [scipy]\n",
      "   ------ --------------------------------- 1/6 [scipy]\n",
      "   ------ --------------------------------- 1/6 [scipy]\n",
      "   ------ --------------------------------- 1/6 [scipy]\n",
      "   ------ --------------------------------- 1/6 [scipy]\n",
      "   ------ --------------------------------- 1/6 [scipy]\n",
      "   ------ --------------------------------- 1/6 [scipy]\n",
      "   ------ --------------------------------- 1/6 [scipy]\n",
      "   ------ --------------------------------- 1/6 [scipy]\n",
      "   ------ --------------------------------- 1/6 [scipy]\n",
      "   ------ --------------------------------- 1/6 [scipy]\n",
      "   ------ --------------------------------- 1/6 [scipy]\n",
      "   ------ --------------------------------- 1/6 [scipy]\n",
      "   ------ --------------------------------- 1/6 [scipy]\n",
      "   ------ --------------------------------- 1/6 [scipy]\n",
      "   ------ --------------------------------- 1/6 [scipy]\n",
      "   ------ --------------------------------- 1/6 [scipy]\n",
      "   ------ --------------------------------- 1/6 [scipy]\n",
      "   ------ --------------------------------- 1/6 [scipy]\n",
      "   ------ --------------------------------- 1/6 [scipy]\n",
      "   ------ --------------------------------- 1/6 [scipy]\n",
      "   ------ --------------------------------- 1/6 [scipy]\n",
      "   ------ --------------------------------- 1/6 [scipy]\n",
      "   ------ --------------------------------- 1/6 [scipy]\n",
      "   ------ --------------------------------- 1/6 [scipy]\n",
      "   ------ --------------------------------- 1/6 [scipy]\n",
      "   ------ --------------------------------- 1/6 [scipy]\n",
      "   ------ --------------------------------- 1/6 [scipy]\n",
      "   ------ --------------------------------- 1/6 [scipy]\n",
      "   ------ --------------------------------- 1/6 [scipy]\n",
      "   ------ --------------------------------- 1/6 [scipy]\n",
      "   ------ --------------------------------- 1/6 [scipy]\n",
      "   ------ --------------------------------- 1/6 [scipy]\n",
      "   ------ --------------------------------- 1/6 [scipy]\n",
      "   ------ --------------------------------- 1/6 [scipy]\n",
      "   ------ --------------------------------- 1/6 [scipy]\n",
      "   ------ --------------------------------- 1/6 [scipy]\n",
      "   ------ --------------------------------- 1/6 [scipy]\n",
      "   ------ --------------------------------- 1/6 [scipy]\n",
      "   ------ --------------------------------- 1/6 [scipy]\n",
      "   ------ --------------------------------- 1/6 [scipy]\n",
      "   ------ --------------------------------- 1/6 [scipy]\n",
      "   ------ --------------------------------- 1/6 [scipy]\n",
      "   ------ --------------------------------- 1/6 [scipy]\n",
      "   ------ --------------------------------- 1/6 [scipy]\n",
      "   ------ --------------------------------- 1/6 [scipy]\n",
      "   ------ --------------------------------- 1/6 [scipy]\n",
      "   ------ --------------------------------- 1/6 [scipy]\n",
      "   ------ --------------------------------- 1/6 [scipy]\n",
      "   ------ --------------------------------- 1/6 [scipy]\n",
      "   ------ --------------------------------- 1/6 [scipy]\n",
      "   ------ --------------------------------- 1/6 [scipy]\n",
      "   ------ --------------------------------- 1/6 [scipy]\n",
      "   ------ --------------------------------- 1/6 [scipy]\n",
      "   ------ --------------------------------- 1/6 [scipy]\n",
      "   ------ --------------------------------- 1/6 [scipy]\n",
      "   ------ --------------------------------- 1/6 [scipy]\n",
      "   ------ --------------------------------- 1/6 [scipy]\n",
      "   ------ --------------------------------- 1/6 [scipy]\n",
      "   ------ --------------------------------- 1/6 [scipy]\n",
      "   ------ --------------------------------- 1/6 [scipy]\n",
      "   ------ --------------------------------- 1/6 [scipy]\n",
      "   ------ --------------------------------- 1/6 [scipy]\n",
      "   ------ --------------------------------- 1/6 [scipy]\n",
      "   ------ --------------------------------- 1/6 [scipy]\n",
      "   ------ --------------------------------- 1/6 [scipy]\n",
      "   ------ --------------------------------- 1/6 [scipy]\n",
      "   ------ --------------------------------- 1/6 [scipy]\n",
      "   ------ --------------------------------- 1/6 [scipy]\n",
      "   ------ --------------------------------- 1/6 [scipy]\n",
      "   ------ --------------------------------- 1/6 [scipy]\n",
      "   ------ --------------------------------- 1/6 [scipy]\n",
      "   ------ --------------------------------- 1/6 [scipy]\n",
      "   ------ --------------------------------- 1/6 [scipy]\n",
      "   ------ --------------------------------- 1/6 [scipy]\n",
      "   ------ --------------------------------- 1/6 [scipy]\n",
      "   ------ --------------------------------- 1/6 [scipy]\n",
      "   ------ --------------------------------- 1/6 [scipy]\n",
      "   ------ --------------------------------- 1/6 [scipy]\n",
      "   ------ --------------------------------- 1/6 [scipy]\n",
      "   ------ --------------------------------- 1/6 [scipy]\n",
      "   ------ --------------------------------- 1/6 [scipy]\n",
      "   ------ --------------------------------- 1/6 [scipy]\n",
      "   ------------- -------------------------- 2/6 [joblib]\n",
      "   ------------- -------------------------- 2/6 [joblib]\n",
      "   ------------- -------------------------- 2/6 [joblib]\n",
      "   ------------- -------------------------- 2/6 [joblib]\n",
      "   ------------- -------------------------- 2/6 [joblib]\n",
      "   ------------- -------------------------- 2/6 [joblib]\n",
      "   -------------------- ------------------- 3/6 [imageio]\n",
      "   -------------------- ------------------- 3/6 [imageio]\n",
      "   -------------------- ------------------- 3/6 [imageio]\n",
      "   -------------------- ------------------- 3/6 [imageio]\n",
      "   -------------------- ------------------- 3/6 [imageio]\n",
      "   -------------------- ------------------- 3/6 [imageio]\n",
      "   -------------------------- ------------- 4/6 [scikit-learn]\n",
      "   -------------------------- ------------- 4/6 [scikit-learn]\n",
      "   -------------------------- ------------- 4/6 [scikit-learn]\n",
      "   -------------------------- ------------- 4/6 [scikit-learn]\n",
      "   -------------------------- ------------- 4/6 [scikit-learn]\n",
      "   -------------------------- ------------- 4/6 [scikit-learn]\n",
      "   -------------------------- ------------- 4/6 [scikit-learn]\n",
      "   -------------------------- ------------- 4/6 [scikit-learn]\n",
      "   -------------------------- ------------- 4/6 [scikit-learn]\n",
      "   -------------------------- ------------- 4/6 [scikit-learn]\n",
      "   -------------------------- ------------- 4/6 [scikit-learn]\n",
      "   -------------------------- ------------- 4/6 [scikit-learn]\n",
      "   -------------------------- ------------- 4/6 [scikit-learn]\n",
      "   -------------------------- ------------- 4/6 [scikit-learn]\n",
      "   -------------------------- ------------- 4/6 [scikit-learn]\n",
      "   -------------------------- ------------- 4/6 [scikit-learn]\n",
      "   -------------------------- ------------- 4/6 [scikit-learn]\n",
      "   -------------------------- ------------- 4/6 [scikit-learn]\n",
      "   -------------------------- ------------- 4/6 [scikit-learn]\n",
      "   -------------------------- ------------- 4/6 [scikit-learn]\n",
      "   -------------------------- ------------- 4/6 [scikit-learn]\n",
      "   -------------------------- ------------- 4/6 [scikit-learn]\n",
      "   -------------------------- ------------- 4/6 [scikit-learn]\n",
      "   -------------------------- ------------- 4/6 [scikit-learn]\n",
      "   -------------------------- ------------- 4/6 [scikit-learn]\n",
      "   -------------------------- ------------- 4/6 [scikit-learn]\n",
      "   -------------------------- ------------- 4/6 [scikit-learn]\n",
      "   -------------------------- ------------- 4/6 [scikit-learn]\n",
      "   -------------------------- ------------- 4/6 [scikit-learn]\n",
      "   -------------------------- ------------- 4/6 [scikit-learn]\n",
      "   -------------------------- ------------- 4/6 [scikit-learn]\n",
      "   -------------------------- ------------- 4/6 [scikit-learn]\n",
      "   -------------------------- ------------- 4/6 [scikit-learn]\n",
      "   -------------------------- ------------- 4/6 [scikit-learn]\n",
      "   -------------------------- ------------- 4/6 [scikit-learn]\n",
      "   -------------------------- ------------- 4/6 [scikit-learn]\n",
      "   -------------------------- ------------- 4/6 [scikit-learn]\n",
      "   -------------------------- ------------- 4/6 [scikit-learn]\n",
      "   -------------------------- ------------- 4/6 [scikit-learn]\n",
      "   -------------------------- ------------- 4/6 [scikit-learn]\n",
      "   -------------------------- ------------- 4/6 [scikit-learn]\n",
      "   -------------------------- ------------- 4/6 [scikit-learn]\n",
      "   -------------------------- ------------- 4/6 [scikit-learn]\n",
      "   -------------------------- ------------- 4/6 [scikit-learn]\n",
      "   -------------------------- ------------- 4/6 [scikit-learn]\n",
      "   -------------------------- ------------- 4/6 [scikit-learn]\n",
      "   -------------------------- ------------- 4/6 [scikit-learn]\n",
      "   -------------------------- ------------- 4/6 [scikit-learn]\n",
      "   -------------------------- ------------- 4/6 [scikit-learn]\n",
      "   -------------------------- ------------- 4/6 [scikit-learn]\n",
      "   -------------------------- ------------- 4/6 [scikit-learn]\n",
      "   -------------------------- ------------- 4/6 [scikit-learn]\n",
      "   -------------------------- ------------- 4/6 [scikit-learn]\n",
      "   -------------------------- ------------- 4/6 [scikit-learn]\n",
      "   -------------------------- ------------- 4/6 [scikit-learn]\n",
      "   -------------------------- ------------- 4/6 [scikit-learn]\n",
      "   --------------------------------- ------ 5/6 [mglearn]\n",
      "   --------------------------------- ------ 5/6 [mglearn]\n",
      "   ---------------------------------------- 6/6 [mglearn]\n",
      "\n",
      "Successfully installed imageio-2.37.0 joblib-1.5.1 mglearn-0.2.0 scikit-learn-1.7.0 scipy-1.16.0 threadpoolctl-3.6.0\n"
     ]
    }
   ],
   "source": [
    "\n",
    "!pip install mglearn"
   ]
  },
  {
   "cell_type": "code",
   "execution_count": 2,
   "id": "75ec602d",
   "metadata": {},
   "outputs": [],
   "source": [
    "from sklearn.linear_model import LinearRegression, Ridge, Lasso\n",
    "import mglearn\n",
    "import numpy as np\n",
    "from sklearn.model_selection import train_test_split\n",
    "import matplotlib.pyplot as plt"
   ]
  },
  {
   "cell_type": "markdown",
   "id": "d67a7ac2",
   "metadata": {},
   "source": [
    "1. Load extended Boston housing dataset"
   ]
  },
  {
   "cell_type": "code",
   "execution_count": 7,
   "id": "769043fd",
   "metadata": {},
   "outputs": [],
   "source": [
    "X, y = mglearn.datasets.load_extended_boston()"
   ]
  },
  {
   "cell_type": "markdown",
   "id": "9f8bf2aa",
   "metadata": {},
   "source": [
    " 2. Split into training and test sets"
   ]
  },
  {
   "cell_type": "code",
   "execution_count": 8,
   "id": "5c3838fe",
   "metadata": {},
   "outputs": [],
   "source": [
    "X_train, X_test, y_train, y_test = train_test_split(X, y, random_state=0)"
   ]
  },
  {
   "cell_type": "markdown",
   "id": "8debe702",
   "metadata": {},
   "source": [
    "3. Linear Regression (OLS)"
   ]
  },
  {
   "cell_type": "code",
   "execution_count": 9,
   "id": "5a6afaf5",
   "metadata": {},
   "outputs": [
    {
     "name": "stdout",
     "output_type": "stream",
     "text": [
      "Linear Regression\n",
      "Train score: 0.95\n",
      "Test score: 0.61\n",
      "\n"
     ]
    }
   ],
   "source": [
    "lr = LinearRegression().fit(X_train, y_train)\n",
    "print(\"Linear Regression\")\n",
    "print(\"Train score: {:.2f}\".format(lr.score(X_train, y_train)))\n",
    "print(\"Test score: {:.2f}\".format(lr.score(X_test, y_test)))\n",
    "print()"
   ]
  },
  {
   "cell_type": "markdown",
   "id": "2d294c11",
   "metadata": {},
   "source": [
    " 4. Ridge Regression (L2)"
   ]
  },
  {
   "cell_type": "code",
   "execution_count": 10,
   "id": "65368198",
   "metadata": {},
   "outputs": [],
   "source": [
    "ridge = Ridge(alpha=1.0).fit(X_train, y_train)\n",
    "ridge10 = Ridge(alpha=10).fit(X_train, y_train)\n",
    "ridge01 = Ridge(alpha=0.1).fit(X_train, y_train)"
   ]
  },
  {
   "cell_type": "code",
   "execution_count": 11,
   "id": "733f466b",
   "metadata": {},
   "outputs": [
    {
     "name": "stdout",
     "output_type": "stream",
     "text": [
      "Ridge Regression (alpha=1.0)\n",
      "Train score: 0.89\n",
      "Test score: 0.75\n",
      "\n"
     ]
    }
   ],
   "source": [
    "print(\"Ridge Regression (alpha=1.0)\")\n",
    "print(\"Train score: {:.2f}\".format(ridge.score(X_train, y_train)))\n",
    "print(\"Test score: {:.2f}\".format(ridge.score(X_test, y_test)))\n",
    "print()"
   ]
  },
  {
   "cell_type": "code",
   "execution_count": 12,
   "id": "1b90c763",
   "metadata": {},
   "outputs": [
    {
     "name": "stdout",
     "output_type": "stream",
     "text": [
      "Ridge Regression (alpha=10)\n",
      "Train score: 0.79\n",
      "Test score: 0.64\n",
      "\n"
     ]
    }
   ],
   "source": [
    "print(\"Ridge Regression (alpha=10)\")\n",
    "print(\"Train score: {:.2f}\".format(ridge10.score(X_train, y_train)))\n",
    "print(\"Test score: {:.2f}\".format(ridge10.score(X_test, y_test)))\n",
    "print()"
   ]
  },
  {
   "cell_type": "code",
   "execution_count": 13,
   "id": "74511100",
   "metadata": {},
   "outputs": [
    {
     "name": "stdout",
     "output_type": "stream",
     "text": [
      "Ridge Regression (alpha=0.1)\n",
      "Train score: 0.93\n",
      "Test score: 0.77\n",
      "\n"
     ]
    }
   ],
   "source": [
    "print(\"Ridge Regression (alpha=0.1)\")\n",
    "print(\"Train score: {:.2f}\".format(ridge01.score(X_train, y_train)))\n",
    "print(\"Test score: {:.2f}\".format(ridge01.score(X_test, y_test)))\n",
    "print()\n",
    "\n"
   ]
  },
  {
   "cell_type": "markdown",
   "id": "546ed49b",
   "metadata": {},
   "source": [
    "5. Lasso Regression (L1)"
   ]
  },
  {
   "cell_type": "code",
   "execution_count": 14,
   "id": "5a548689",
   "metadata": {},
   "outputs": [],
   "source": [
    "lasso = Lasso(alpha=1.0).fit(X_train, y_train)\n",
    "lasso001 = Lasso(alpha=0.01, max_iter=100000).fit(X_train, y_train)\n",
    "lasso00001 = Lasso(alpha=0.0001, max_iter=100000).fit(X_train, y_train)"
   ]
  },
  {
   "cell_type": "code",
   "execution_count": 15,
   "id": "ad7eb262",
   "metadata": {},
   "outputs": [
    {
     "name": "stdout",
     "output_type": "stream",
     "text": [
      "Lasso Regression (alpha=1.0)\n",
      "Train score: 0.29\n",
      "Test score: 0.21\n",
      "Features used: 4\n",
      "\n"
     ]
    }
   ],
   "source": [
    "print(\"Lasso Regression (alpha=1.0)\")\n",
    "print(\"Train score: {:.2f}\".format(lasso.score(X_train, y_train)))\n",
    "print(\"Test score: {:.2f}\".format(lasso.score(X_test, y_test)))\n",
    "print(\"Features used:\", np.sum(lasso.coef_ != 0))\n",
    "print()"
   ]
  },
  {
   "cell_type": "code",
   "execution_count": 16,
   "id": "c08a3240",
   "metadata": {},
   "outputs": [
    {
     "name": "stdout",
     "output_type": "stream",
     "text": [
      "Lasso Regression (alpha=0.01)\n",
      "Train score: 0.90\n",
      "Test score: 0.77\n",
      "Features used: 33\n",
      "\n"
     ]
    }
   ],
   "source": [
    "print(\"Lasso Regression (alpha=0.01)\")\n",
    "print(\"Train score: {:.2f}\".format(lasso001.score(X_train, y_train)))\n",
    "print(\"Test score: {:.2f}\".format(lasso001.score(X_test, y_test)))\n",
    "print(\"Features used:\", np.sum(lasso001.coef_ != 0))\n",
    "print()"
   ]
  },
  {
   "cell_type": "code",
   "execution_count": 17,
   "id": "5f3610fd",
   "metadata": {},
   "outputs": [
    {
     "name": "stdout",
     "output_type": "stream",
     "text": [
      "Lasso Regression (alpha=0.0001)\n",
      "Train score: 0.95\n",
      "Test score: 0.64\n",
      "Features used: 96\n",
      "\n"
     ]
    }
   ],
   "source": [
    "print(\"Lasso Regression (alpha=0.0001)\")\n",
    "print(\"Train score: {:.2f}\".format(lasso00001.score(X_train, y_train)))\n",
    "print(\"Test score: {:.2f}\".format(lasso00001.score(X_test, y_test)))\n",
    "print(\"Features used:\", np.sum(lasso00001.coef_ != 0))\n",
    "print()"
   ]
  },
  {
   "cell_type": "markdown",
   "id": "129935b4",
   "metadata": {},
   "source": [
    "6. Plotting coefficients"
   ]
  },
  {
   "cell_type": "code",
   "execution_count": 18,
   "id": "84830175",
   "metadata": {},
   "outputs": [
    {
     "data": {
      "image/png": "[encoded data removed]",
      "text/plain": [
       "<Figure size 1000x600 with 1 Axes>"
      ]
     },
     "metadata": {},
     "output_type": "display_data"
    }
   ],
   "source": [
    "plt.figure(figsize=(10, 6))\n",
    "plt.plot(lr.coef_, 'o', label=\"Linear Regression\")\n",
    "plt.plot(ridge.coef_, 's', label=\"Ridge alpha=1\")\n",
    "plt.plot(ridge10.coef_, '^', label=\"Ridge alpha=10\")\n",
    "plt.plot(ridge01.coef_, 'v', label=\"Ridge alpha=0.1\")\n",
    "plt.plot(lasso.coef_, '*', label=\"Lasso alpha=1\")\n",
    "plt.plot(lasso001.coef_, '+', label=\"Lasso alpha=0.01\")\n",
    "plt.plot(lasso00001.coef_, 'x', label=\"Lasso alpha=0.0001\")\n",
    "plt.xlabel(\"Coefficient Index\")\n",
    "plt.ylabel(\"Coefficient Magnitude\")\n",
    "plt.title(\"Comparison of Coefficient Magnitudes\")\n",
    "plt.axhline(0, color='black', linestyle='--')\n",
    "plt.legend(loc='best')\n",
    "plt.grid(True)\n",
    "plt.show()"
   ]
  }
 ],
 "metadata": {
  "kernelspec": {
   "display_name": "Python 3",
   "language": "python",
   "name": "python3"
  },
  "language_info": {
   "codemirror_mode": {
    "name": "ipython",
    "version": 3
   },
   "file_extension": ".py",
   "mimetype": "text/x-python",
   "name": "python",
   "nbconvert_exporter": "python",
   "pygments_lexer": "ipython3",
   "version": "3.13.5"
  }
 },
 "nbformat": 4,
 "nbformat_minor": 5
}
